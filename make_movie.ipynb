{
 "cells": [
  {
   "cell_type": "markdown",
   "metadata": {},
   "source": [
    "# Making movies for blog"
   ]
  },
  {
   "cell_type": "code",
   "execution_count": 1,
   "metadata": {},
   "outputs": [],
   "source": [
    "%load_ext autoreload\n",
    "%autoreload 2\n",
    "\n",
    "from graphs import *\n",
    "from gallagher_algorithm import *\n",
    "import networkx as nx\n",
    "import numpy as np\n",
    "import matplotlib.pyplot as plt\n",
    "from matplotlib.colors import Normalize\n",
    "import matplotlib.gridspec as gridspec\n",
    "import pickle\n",
    "import os\n",
    "import datetime"
   ]
  },
  {
   "cell_type": "markdown",
   "metadata": {},
   "source": [
    "First we specify an Eta (a stepsize in the algorithm), and a directory to save"
   ]
  },
  {
   "cell_type": "code",
   "execution_count": 2,
   "metadata": {},
   "outputs": [],
   "source": [
    "eta = 0.04\n",
    "savedir = datetime.datetime.now().strftime(\"%H%M%S\") + \"_snaps\"\n",
    "os.makedirs(savedir)"
   ]
  },
  {
   "cell_type": "markdown",
   "metadata": {},
   "source": [
    "Next we generate a Network, either by calling the Constructor or by using a saved network pkl"
   ]
  },
  {
   "cell_type": "code",
   "execution_count": 3,
   "metadata": {},
   "outputs": [],
   "source": [
    "# From Params\n",
    "#seed = 11\n",
    "#n = 4\n",
    "#np.random.seed(seed)\n",
    "#D = np.random.randint(1, 7, size=(n,n))\n",
    "#G = Network(n=n, seed=seed, D=D, p=0.7)\n",
    "#G.setPhi(shortestPathsPhi(G))\n",
    "#G.toPickle('4_node.pkl')\n",
    "\n",
    "# From Pickle\n",
    "G = netFromPickle('4_node.pkl')"
   ]
  },
  {
   "cell_type": "markdown",
   "metadata": {},
   "source": [
    "Next we run Gallagher's algorithm till it converges. We also visualize what the edge weights look like after Gallagher."
   ]
  },
  {
   "cell_type": "code",
   "execution_count": 4,
   "metadata": {},
   "outputs": [],
   "source": [
    "scores, phis = iterGallagher(G, nTrials=100, eta=eta, retPhi=True)\n",
    "phis = np.array(phis)\n",
    "\n",
    "fs = np.empty_like(phis[:, 0, :, :])\n",
    "for i, phi in enumerate(phis):\n",
    "    G.setPhi(phi)\n",
    "    fs[i] = G.F\n",
    "\n",
    "assert(convergenceConditions(G))"
   ]
  },
  {
   "cell_type": "markdown",
   "metadata": {},
   "source": [
    "# Showing F's vs Loss"
   ]
  },
  {
   "cell_type": "code",
   "execution_count": null,
   "metadata": {},
   "outputs": [],
   "source": [
    "x = np.arange(len(scores))\n",
    "x_lim = [min(x) - 1, max(x) + 1]\n",
    "y_lim = [min(scores) - 1, max(scores) + 1]\n",
    "nDig = len(str(len(scores) - 1))\n",
    "\n",
    "wmin = np.min(fs)\n",
    "wmax = np.max(fs)\n",
    "mapper = plt.cm.ScalarMappable(Normalize(vmin=wmin, vmax=wmax))\n",
    "\n",
    "for i, (s, f) in enumerate(zip(scores, fs)):\n",
    "    fig, [ax1, ax2] = plt.subplots(1, 2, figsize=(12, 6))\n",
    "    \n",
    "    # Graph viz\n",
    "    G.visualizeWithColors(ax=ax1, wMat=f, mapper=mapper, \\\n",
    "                          weight_min=wmin, weight_max=wmax, \\\n",
    "                          withLabels=True, arcEdges=False)\n",
    "    ax1.set_title('Traffic on Edges');\n",
    "    ax1.axis('off')\n",
    "    \n",
    "    # Colorbar\n",
    "    plt.colorbar(mappable=mapper, ax=ax1)\n",
    "    \n",
    "    # Convergence plot\n",
    "    ax2.set_xlim(x_lim); ax2.set_ylim(y_lim)\n",
    "    ax2.plot(x[:i+1], scores[:i+1], 'b-')\n",
    "    ax2.scatter([i], [s], c='r')\n",
    "    ax2.set_xlabel('# of iterations of Gallagher'); ax2.set_ylabel('D_T (Expected delay)')\n",
    "    \n",
    "    \n",
    "    plt.savefig(os.path.join(savedir, str(i).zfill(nDig) + '.jpg'))\n",
    "    plt.close()"
   ]
  },
  {
   "cell_type": "markdown",
   "metadata": {},
   "source": [
    "# Showing PHI's vs Loss"
   ]
  },
  {
   "cell_type": "code",
   "execution_count": null,
   "metadata": {},
   "outputs": [],
   "source": [
    "x = np.arange(len(scores))\n",
    "x_lim = [min(x) - 1, max(x) + 1]\n",
    "y_lim = [min(scores) - 1, max(scores) + 1]\n",
    "nDig = len(str(len(scores) - 1))\n",
    "\n",
    "wmin = np.min(phis)\n",
    "wmax = np.max(phis)\n",
    "#wmax = np.max(phis, axis=(0, 2, 3))\n",
    "mapper = plt.cm.ScalarMappable(Normalize(vmin=wmin, vmax=wmax))\n",
    "\n",
    "f = plt.figure()\n",
    "f.set_size_inches(24, 12)\n",
    "gs0 = gridspec.GridSpec(2, 4, width_ratios=(1,4,4,4), figure=f)\n",
    "phi_ax  = [f.add_subplot(gs0[i, j]) for i,j in [(0,1), (0, 2), (1, 1), (1,2)]]\n",
    "cbar_ax = f.add_subplot(gs0[:, 0])\n",
    "og_ax   = f.add_subplot(gs0[0, 3])\n",
    "plt_ax  = f.add_subplot(gs0[1, 3])\n",
    "\n",
    "# Colorbar\n",
    "plt.colorbar(mappable=mapper, cax=cbar_ax)\n",
    "cbar_ax.set_title('Routing param value')\n",
    "\n",
    "# Og Graph\n",
    "G.visualize(withEdgeTraffic=False, ax=og_ax)\n",
    "og_ax.set_title('Graph of network')\n",
    "og_ax.axis('off')\n",
    "\n",
    "for i, (s, phi) in enumerate(zip(scores, phis)): \n",
    "    # Graph viz\n",
    "    for j, (sub_phi, ax) in enumerate(zip(phi, phi_ax)):\n",
    "        ax.clear()\n",
    "        G.visualizeWithColors(ax=ax, wMat=sub_phi, withLabels=True, mapper=mapper, \\\n",
    "                              weight_min=wmin, weight_max=wmax)\n",
    "        ax.set_title(f'Routes for dest. node: {j}')\n",
    "    \n",
    "    # Convergence plot\n",
    "    plt_ax.clear()\n",
    "    plt_ax.set_xlim(x_lim); plt_ax.set_ylim(y_lim);\n",
    "    plt_ax.plot(x[:i+1], scores[:i+1], 'b-')\n",
    "    plt_ax.scatter([i], [s], c='r')\n",
    "    plt_ax.set_xlabel('# of iterations of Gallagher'); plt_ax.set_ylabel('D_T (Expected delay)');\n",
    "    plt_ax.set_title('Convergence of Gallagher algorithm')\n",
    "    \n",
    "    plt.savefig(os.path.join(savedir, str(i).zfill(nDig) + '.jpg'))"
   ]
  },
  {
   "cell_type": "code",
   "execution_count": null,
   "metadata": {},
   "outputs": [],
   "source": []
  }
 ],
 "metadata": {
  "kernelspec": {
   "display_name": "neural",
   "language": "python",
   "name": "neural"
  },
  "language_info": {
   "codemirror_mode": {
    "name": "ipython",
    "version": 3
   },
   "file_extension": ".py",
   "mimetype": "text/x-python",
   "name": "python",
   "nbconvert_exporter": "python",
   "pygments_lexer": "ipython3",
   "version": "3.6.7"
  }
 },
 "nbformat": 4,
 "nbformat_minor": 4
}
