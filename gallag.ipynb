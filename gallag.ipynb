{
 "cells": [
  {
   "cell_type": "code",
   "execution_count": 1,
   "metadata": {},
   "outputs": [],
   "source": [
    "%load_ext autoreload\n",
    "%autoreload 2\n",
    "\n",
    "from graphs import *\n",
    "from gallagher_algorithm import *\n",
    "import warnings\n",
    "warnings.filterwarnings('error')\n",
    "import networkx as nx\n",
    "import numpy as np"
   ]
  },
  {
   "cell_type": "code",
   "execution_count": 2,
   "metadata": {},
   "outputs": [],
   "source": [
    "eta = 0.01\n",
    "seed = 6\n",
    "n = 10"
   ]
  },
  {
   "cell_type": "code",
   "execution_count": 3,
   "metadata": {},
   "outputs": [],
   "source": [
    "np.random.seed(seed)\n",
    "D = np.random.randint(1, 3, size=(n,n))\n",
    "G = Network(n, seed=seed, D=D)\n",
    "phi = initializePhi(G)\n",
    "G.phi = phi\n",
    "score_0 = D_T(G)"
   ]
  },
  {
   "cell_type": "code",
   "execution_count": 4,
   "metadata": {},
   "outputs": [
    {
     "data": {
      "image/png": "[encoded data removed]",
      "text/plain": [
       "<Figure size 432x288 with 1 Axes>"
      ]
     },
     "metadata": {},
     "output_type": "display_data"
    }
   ],
   "source": [
    "G.visualize(withEdgeTraffic=True);"
   ]
  },
  {
   "cell_type": "code",
   "execution_count": 6,
   "metadata": {},
   "outputs": [
    {
     "name": "stdout",
     "output_type": "stream",
     "text": [
      "1190.0\n",
      "1189.9635944411662\n",
      "1189.9582619425262\n",
      "1189.9527601721006\n",
      "1189.9470904177533\n",
      "1189.941253949764\n",
      "1189.9352520211871\n",
      "1189.9290858681995\n",
      "1189.922756710438\n",
      "1189.9162657513293\n",
      "1189.9096141784116\n",
      "1189.9028031636465\n",
      "1189.8958338637244\n",
      "1189.888707420361\n",
      "1189.8814249605864\n",
      "1189.8739875970282\n",
      "1189.8663964281845\n",
      "1189.8586525386952\n",
      "1189.8507569996\n",
      "1189.842710868595\n",
      "1189.8345151902827\n",
      "1189.8261709964115\n",
      "1189.8176793061157\n",
      "1189.8090411261446\n",
      "1189.8002574510888\n",
      "1189.7913292636003\n",
      "1189.7822575346067\n",
      "1189.7730432235223\n",
      "1189.7636872784522\n",
      "1189.7541906363922\n",
      "1189.7445542234252\n"
     ]
    }
   ],
   "source": [
    "print(score_0)\n",
    "for _ in range(30):\n",
    "    dR = calculateMarginals(G)\n",
    "    #dR2 = calculateMarginals_v2(G, dR)\n",
    "    #print(np.all(dR == dR2))\n",
    "    tags = calculateBlocked(G, dR, eta)\n",
    "    phi = updateRoutingTable(G, dR, tags, eta)\n",
    "    G.phi = phi\n",
    "    print(D_T(G))"
   ]
  },
  {
   "cell_type": "code",
   "execution_count": null,
   "metadata": {},
   "outputs": [],
   "source": [
    "score_0, score_1"
   ]
  },
  {
   "cell_type": "code",
   "execution_count": null,
   "metadata": {},
   "outputs": [],
   "source": [
    "phi0 = initializePhi(net)\n",
    "x0 = net.converter.fromPhi(phi0)\n",
    "#x0 = np.random.rand(net.df)\n",
    "\n",
    "bounds = np.zeros((len(x0), 2))\n",
    "bounds[:, 1] = 1\n",
    "\n",
    "res = minimize(obj, x0=x0, args=(net), bounds=bounds)\n",
    "phi_best = net.converter.toPhi(np.round(res.x, 4))"
   ]
  },
  {
   "cell_type": "code",
   "execution_count": null,
   "metadata": {},
   "outputs": [],
   "source": [
    "obj(res.x, net), obj(x0, net)"
   ]
  },
  {
   "cell_type": "code",
   "execution_count": null,
   "metadata": {},
   "outputs": [],
   "source": [
    "net.phi = phi0\n",
    "print('D_T original: ', D_T(net))\n",
    "og = net.F\n",
    "\n",
    "net.phi = phi_best\n",
    "print('D_T post optimization: ', D_T(net))\n",
    "new = net.F"
   ]
  },
  {
   "cell_type": "code",
   "execution_count": null,
   "metadata": {},
   "outputs": [],
   "source": [
    "net.visualize(withEdgeTraffic=True, layout='planar')\n",
    "plt.gcf().set_size_inches(10, 10)"
   ]
  },
  {
   "cell_type": "code",
   "execution_count": null,
   "metadata": {},
   "outputs": [],
   "source": [
    "from convex import *"
   ]
  },
  {
   "cell_type": "code",
   "execution_count": null,
   "metadata": {},
   "outputs": [],
   "source": []
  }
 ],
 "metadata": {
  "kernelspec": {
   "display_name": "neural",
   "language": "python",
   "name": "neural"
  },
  "language_info": {
   "codemirror_mode": {
    "name": "ipython",
    "version": 3
   },
   "file_extension": ".py",
   "mimetype": "text/x-python",
   "name": "python",
   "nbconvert_exporter": "python",
   "pygments_lexer": "ipython3",
   "version": "3.6.7"
  }
 },
 "nbformat": 4,
 "nbformat_minor": 4
}
