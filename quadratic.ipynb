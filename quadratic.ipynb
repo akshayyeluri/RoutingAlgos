{
 "cells": [
  {
   "cell_type": "code",
   "execution_count": null,
   "metadata": {},
   "outputs": [],
   "source": [
    "%load_ext autoreload\n",
    "%autoreload 2\n",
    "\n",
    "from graphs import *\n",
    "from gallagher_algorithm import *\n",
    "from integer_and_scipy import *\n",
    "import networkx as nx\n",
    "import numpy as np\n",
    "import matplotlib.pyplot as plt\n",
    "import pickle"
   ]
  },
  {
   "cell_type": "code",
   "execution_count": null,
   "metadata": {},
   "outputs": [],
   "source": [
    "eta = 0.1"
   ]
  },
  {
   "cell_type": "code",
   "execution_count": null,
   "metadata": {},
   "outputs": [],
   "source": [
    "# From Params\n",
    "seed = 11\n",
    "n = 6\n",
    "np.random.seed(seed)\n",
    "D = np.random.randint(1, 7, size=(n,n))"
   ]
  },
  {
   "cell_type": "code",
   "execution_count": null,
   "metadata": {},
   "outputs": [],
   "source": [
    "# From Pickle\n",
    "#G = netFromPickle('4_node.pkl')\n",
    "#with open('p_best.pkl', 'rb') as f:\n",
    "#    G.setPhi(pickle.load(f))\n",
    "\n",
    "G = Network(n=n, seed=seed, D_scaling=D, p=0.7)\n",
    "G.setPhi(shortestPathsPhi(G))\n",
    "G.toPickle('6_node.pkl')\n",
    "\n",
    "G.visualize(withEdgeTraffic=True);\n",
    "plt.gcf().set_size_inches(10, 10)"
   ]
  },
  {
   "cell_type": "code",
   "execution_count": null,
   "metadata": {},
   "outputs": [],
   "source": [
    "scores = iterGallagher(G, eta=eta)\n",
    "    \n",
    "plt.plot(scores);\n",
    "plt.xlabel('iter of Gallagher'); plt.ylabel('D_T'); plt.title('Starting from Shortest Paths');\n",
    "convergenceConditions(G)"
   ]
  },
  {
   "cell_type": "code",
   "execution_count": null,
   "metadata": {},
   "outputs": [],
   "source": []
  },
  {
   "cell_type": "code",
   "execution_count": null,
   "metadata": {},
   "outputs": [],
   "source": [
    "#G = netFromPickle('4_node.pkl')\n",
    "#phi_best = integerRoutingPhi(G)\n",
    "#with open('p_best.pkl', 'wb') as f:\n",
    "#    pickle.dump(phi_best, f)"
   ]
  },
  {
   "cell_type": "code",
   "execution_count": null,
   "metadata": {},
   "outputs": [],
   "source": [
    "G2 = netFromPickle('4_node.pkl')\n",
    "with open('p_best.pkl', 'rb') as f:\n",
    "    G2.setPhi(pickle.load(f))\n",
    "    \n",
    "print('D_T from Brute Force: ', G2.D_T())\n",
    "    \n",
    "scores = iterGallagher(G2, nTrials=100, eta=eta)\n",
    "plt.plot(scores);\n",
    "plt.xlabel('iter of Gallagher'); plt.ylabel('D_T'); plt.title('Starting from Brute Force Optimal');"
   ]
  },
  {
   "cell_type": "code",
   "execution_count": null,
   "metadata": {},
   "outputs": [],
   "source": [
    "convergenceConditions(G2)"
   ]
  },
  {
   "cell_type": "code",
   "execution_count": null,
   "metadata": {},
   "outputs": [],
   "source": [
    "G.dR = calculateMarginals(G)\n",
    "G2.dR = calculateMarginals(G2)"
   ]
  },
  {
   "cell_type": "code",
   "execution_count": null,
   "metadata": {},
   "outputs": [],
   "source": [
    "G.phi"
   ]
  },
  {
   "cell_type": "code",
   "execution_count": null,
   "metadata": {},
   "outputs": [],
   "source": [
    "G2.phi"
   ]
  },
  {
   "cell_type": "code",
   "execution_count": null,
   "metadata": {},
   "outputs": [],
   "source": []
  }
 ],
 "metadata": {
  "kernelspec": {
   "display_name": "neural",
   "language": "python",
   "name": "neural"
  },
  "language_info": {
   "codemirror_mode": {
    "name": "ipython",
    "version": 3
   },
   "file_extension": ".py",
   "mimetype": "text/x-python",
   "name": "python",
   "nbconvert_exporter": "python",
   "pygments_lexer": "ipython3",
   "version": "3.6.7"
  }
 },
 "nbformat": 4,
 "nbformat_minor": 4
}
